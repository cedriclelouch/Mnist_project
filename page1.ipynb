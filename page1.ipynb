{
 "nbformat": 4,
 "nbformat_minor": 2,
 "metadata": {
  "language_info": {
   "name": "python",
   "codemirror_mode": {
    "name": "ipython",
    "version": 3
   },
   "version": "3.7.3-final"
  },
  "orig_nbformat": 2,
  "file_extension": ".py",
  "mimetype": "text/x-python",
  "name": "python",
  "npconvert_exporter": "python",
  "pygments_lexer": "ipython3",
  "version": 3,
  "kernelspec": {
   "name": "python3",
   "display_name": "Python 3"
  }
 },
 "cells": [
  {
   "cell_type": "code",
   "execution_count": 56,
   "metadata": {},
   "outputs": [
    {
     "output_type": "stream",
     "name": "stdout",
     "text": "hello word \n"
    }
   ],
   "source": [
    "print(\"hello word \")"
   ]
  },
  {
   "cell_type": "code",
   "execution_count": 1,
   "metadata": {},
   "outputs": [
    {
     "output_type": "stream",
     "name": "stderr",
     "text": "Using TensorFlow backend.\n"
    }
   ],
   "source": [
    "# librairies \n",
    "import keras \n",
    "from keras.models import Sequential\n",
    "from keras.layers import Dense, Dropout, Activation, Flatten\n",
    "from keras.layers import Convolution2D, MaxPooling2D"
   ]
  },
  {
   "cell_type": "markdown",
   "metadata": {},
   "source": [
    "IMPORT DES DONNEE"
   ]
  },
  {
   "cell_type": "code",
   "execution_count": 31,
   "metadata": {},
   "outputs": [],
   "source": [
    "# import du dataset\n",
    "from keras.datasets import mnist\n",
    "(x_train, y_train), (x_test, y_test) = mnist.load_data()"
   ]
  },
  {
   "cell_type": "code",
   "execution_count": 60,
   "metadata": {},
   "outputs": [
    {
     "output_type": "stream",
     "name": "stdout",
     "text": "nos chiffres sont classées par :[0 1 2 3 4 5 6 7 8 9]\n"
    }
   ],
   "source": [
    "# visualisation des des classes quit composent notre dataset \n",
    "import numpy as np \n",
    "print(\"nos chiffres sont classées par :\",np.unique(y_train))\n",
    ""
   ]
  },
  {
   "cell_type": "markdown",
   "metadata": {},
   "source": [
    "VISUALISATION DU DATASET"
   ]
  },
  {
   "cell_type": "code",
   "execution_count": 36,
   "metadata": {},
   "outputs": [
    {
     "output_type": "stream",
     "name": "stdout",
     "text": "(10000, 28, 28, 1)\n"
    },
    {
     "output_type": "display_data",
     "data": {
      "text/plain": "<Figure size 432x288 with 6 Axes>",
      "image/svg+xml": "<?xml version=\"1.0\" encoding=\"utf-8\" standalone=\"no\"?>\r\n<!DOCTYPE svg PUBLIC \"-//W3C//DTD SVG 1.1//EN\"\r\n  \"http://www.w3.org/Graphics/SVG/1.1/DTD/svg11.dtd\">\r\n<!-- Created with matplotlib (https://matplotlib.org/) -->\r\n<svg height=\"263.270475pt\" version=\"1.1\" viewBox=\"0 0 368.925 263.270475\" width=\"368.925pt\" xmlns=\"http://www.w3.org/2000/svg\" xmlns:xlink=\"http://www.w3.org/1999/xlink\">\r\n <defs>\r\n  <style type=\"text/css\">\r\n*{stroke-linecap:butt;stroke-linejoin:round;white-space:pre;}\r\n  </style>\r\n </defs>\r\n <g id=\"figure_1\">\r\n  <g id=\"patch_1\">\r\n   <path d=\"M -0 263.270475 \r\nL 368.925 263.270475 \r\nL 368.925 0 \r\nL -0 0 \r\nz\r\n\" style=\"fill:none;\"/>\r\n  </g>\r\n  <g id=\"axes_1\">\r\n   <g id=\"patch_2\">\r\n    <path d=\"M 26.925 120.788713 \r\nL 125.395588 120.788713 \r\nL 125.395588 22.318125 \r\nL 26.925 22.318125 \r\nz\r\n\" style=\"fill:#ffffff;\"/>\r\n   </g>\r\n   <g clip-path=\"url(#pdeb42cf57f)\">\r\n    <image height=\"99\" id=\"image681adc1f57\" transform=\"scale(1 -1)translate(0 -99)\" width=\"99\" x=\"26.925\" xlink:href=\"data:image/png;base64,\r\niVBORw0KGgoAAAANSUhEUgAAAGMAAABjCAYAAACPO76VAAAABHNCSVQICAgIfAhkiAAABGJJREFUeJztnHtMjWEcx99TpCLkkjGGGCK5TEjmXjH8gbEsmz8wtzRjzGxmmD9c/nHb3P/S3LaazS0j5r5SylKZSAmHFVKEOvLf876/M+fI65y37+H7+ev76/denvXd73nO+7zP+9jq6hsbNQKBX3M3gOjQDCBoBhA0AwiaAQTNAIJmAEEzgKAZQNAMIFqYPXH52UciPrX7WJPOCxw4UsSzpkfpjfG3idz2qf2VDglq+adN9DlYGUDQDCBsZmdtH1d8EvGy1FylC7KK5cEVRWZuoWlBIUompSSK1K4ZEfphAf7mrg8GKwMImgEEzQDC9Jjhjuov9SKeuf+O0oV5L0TO8eyhqXuExU5Ret+SaJEb17eziANb+saYwsoAgmYA4ZVuyh1Vtd9FXPrus9Iztl4QuW9F2abu0XH0RBEfWDpa6bgBXUTOz08+9TcnrAwgaAYQNAMIy8cMd1TVfBPx0exypXccviVyjaX5pu4RGj1exEeSY5We7DSeWA0rAwiaAQRUN+WOssovIt5wvlDpy+n35MH2kqZf2F9/vxYelyBSOVvim34dD8DKAIJmAEEzgPCZMcMdJfZaEe+/Xybim7mvlC7NkFMuRtoMGSPisoPzlLZi2oSVAQTNAOKf6Kb+hNDYdfIPDYZZ5BYBInXtxEalh/cO9WazNE1jZUBBM4CgGUCYXmuLTE2dXBBx6YldDxz1mit6jJ8sYivGCSOsDCBoBhD/RDf17K18Ap+997aIy69ecnlu/LIFSu+bE+XyOCtgZQBBM4CgGUD47JiRUaj/XE1MOSKTNZUuz1u9bYWIV8b0UrpTSCuPtM0srAwgaAYQNAMIn5lCr3hfJ+LBc3fqQWhXkYuZFCniaVH64rTk2HCRs9m48Jn8ApoBBPRP27rvDqUTdlyXydr3Sl48lCxSMX07erVd3oKVAQTNAIJmAAE9ZqSkFSj9+kaGyHWboC9SHhXewbI2eRNWBhA0A4hm76Y+f21QOriV3Mmgsuary/O2Jelv5ZA+H/4bWBlA0AwgaAYQls/aXimyi/jAzRdKx0WGidymNXtcXqftsLFKF++dLXLOO7M9N2yJsfZcgcilLxnlvsEWwsoAgmYAYUk3ZdwMrM/iVJEzu/mXEedddNq1Dxbx88xMPQgIErkP1zb/9f09BSsDCJoBBM0AwpLpkLfV+rSGo/K1x69fdV++Baxyd3CD3AnuTN5LpdsGuP53dA+R45Bxb/aenYKdDzcFKwMImgGE5U/g9o9yJrbe8UPpu+VyjeypB2+U/lAtz8s/m+aZBvUYpGRkdD+RKkhL14PW7UUubOgIpU+uGityZj8/Y2UAQTOAoBlA+MxaW8cP2cxawxvC37E9U9+Zzfmz5Pyn+jh1zrB5pKZp2vzjWUrnpJ6WFw1so+Si9QtFavfMCM0MrAwgaAYQPtNN/Q+wMoCgGUDQDCBoBhA0AwiaAQTNAIJmAEEzgKAZQNAMIGgGEDQDCJoBBM0AgmYAQTOA+AllJw/nZwjMXQAAAABJRU5ErkJggg==\" y=\"-21.788713\"/>\r\n   </g>\r\n   <g id=\"matplotlib.axis_1\">\r\n    <g id=\"xtick_1\">\r\n     <g id=\"line2d_1\">\r\n      <defs>\r\n       <path d=\"M 0 0 \r\nL 0 3.5 \r\n\" id=\"m8b5938cb11\" style=\"stroke:#000000;stroke-width:0.8;\"/>\r\n      </defs>\r\n      <g>\r\n       <use style=\"stroke:#000000;stroke-width:0.8;\" x=\"28.683403\" xlink:href=\"#m8b5938cb11\" y=\"120.788713\"/>\r\n      </g>\r\n     </g>\r\n     <g id=\"text_1\">\r\n      <!-- 0 -->\r\n      <defs>\r\n       <path d=\"M 31.78125 66.40625 \r\nQ 24.171875 66.40625 20.328125 58.90625 \r\nQ 16.5 51.421875 16.5 36.375 \r\nQ 16.5 21.390625 20.328125 13.890625 \r\nQ 24.171875 6.390625 31.78125 6.390625 \r\nQ 39.453125 6.390625 43.28125 13.890625 \r\nQ 47.125 21.390625 47.125 36.375 \r\nQ 47.125 51.421875 43.28125 58.90625 \r\nQ 39.453125 66.40625 31.78125 66.40625 \r\nz\r\nM 31.78125 74.21875 \r\nQ 44.046875 74.21875 50.515625 64.515625 \r\nQ 56.984375 54.828125 56.984375 36.375 \r\nQ 56.984375 17.96875 50.515625 8.265625 \r\nQ 44.046875 -1.421875 31.78125 -1.421875 \r\nQ 19.53125 -1.421875 13.0625 8.265625 \r\nQ 6.59375 17.96875 6.59375 36.375 \r\nQ 6.59375 54.828125 13.0625 64.515625 \r\nQ 19.53125 74.21875 31.78125 74.21875 \r\nz\r\n\" id=\"DejaVuSans-48\"/>\r\n      </defs>\r\n      <g transform=\"translate(25.502153 135.387151)scale(0.1 -0.1)\">\r\n       <use xlink:href=\"#DejaVuSans-48\"/>\r\n      </g>\r\n     </g>\r\n    </g>\r\n    <g id=\"xtick_2\">\r\n     <g id=\"line2d_2\">\r\n      <g>\r\n       <use style=\"stroke:#000000;stroke-width:0.8;\" x=\"63.851471\" xlink:href=\"#m8b5938cb11\" y=\"120.788713\"/>\r\n      </g>\r\n     </g>\r\n     <g id=\"text_2\">\r\n      <!-- 10 -->\r\n      <defs>\r\n       <path d=\"M 12.40625 8.296875 \r\nL 28.515625 8.296875 \r\nL 28.515625 63.921875 \r\nL 10.984375 60.40625 \r\nL 10.984375 69.390625 \r\nL 28.421875 72.90625 \r\nL 38.28125 72.90625 \r\nL 38.28125 8.296875 \r\nL 54.390625 8.296875 \r\nL 54.390625 0 \r\nL 12.40625 0 \r\nz\r\n\" id=\"DejaVuSans-49\"/>\r\n      </defs>\r\n      <g transform=\"translate(57.488971 135.387151)scale(0.1 -0.1)\">\r\n       <use xlink:href=\"#DejaVuSans-49\"/>\r\n       <use x=\"63.623047\" xlink:href=\"#DejaVuSans-48\"/>\r\n      </g>\r\n     </g>\r\n    </g>\r\n    <g id=\"xtick_3\">\r\n     <g id=\"line2d_3\">\r\n      <g>\r\n       <use style=\"stroke:#000000;stroke-width:0.8;\" x=\"99.019538\" xlink:href=\"#m8b5938cb11\" y=\"120.788713\"/>\r\n      </g>\r\n     </g>\r\n     <g id=\"text_3\">\r\n      <!-- 20 -->\r\n      <defs>\r\n       <path d=\"M 19.1875 8.296875 \r\nL 53.609375 8.296875 \r\nL 53.609375 0 \r\nL 7.328125 0 \r\nL 7.328125 8.296875 \r\nQ 12.9375 14.109375 22.625 23.890625 \r\nQ 32.328125 33.6875 34.8125 36.53125 \r\nQ 39.546875 41.84375 41.421875 45.53125 \r\nQ 43.3125 49.21875 43.3125 52.78125 \r\nQ 43.3125 58.59375 39.234375 62.25 \r\nQ 35.15625 65.921875 28.609375 65.921875 \r\nQ 23.96875 65.921875 18.8125 64.3125 \r\nQ 13.671875 62.703125 7.8125 59.421875 \r\nL 7.8125 69.390625 \r\nQ 13.765625 71.78125 18.9375 73 \r\nQ 24.125 74.21875 28.421875 74.21875 \r\nQ 39.75 74.21875 46.484375 68.546875 \r\nQ 53.21875 62.890625 53.21875 53.421875 \r\nQ 53.21875 48.921875 51.53125 44.890625 \r\nQ 49.859375 40.875 45.40625 35.40625 \r\nQ 44.1875 33.984375 37.640625 27.21875 \r\nQ 31.109375 20.453125 19.1875 8.296875 \r\nz\r\n\" id=\"DejaVuSans-50\"/>\r\n      </defs>\r\n      <g transform=\"translate(92.657038 135.387151)scale(0.1 -0.1)\">\r\n       <use xlink:href=\"#DejaVuSans-50\"/>\r\n       <use x=\"63.623047\" xlink:href=\"#DejaVuSans-48\"/>\r\n      </g>\r\n     </g>\r\n    </g>\r\n   </g>\r\n   <g id=\"matplotlib.axis_2\">\r\n    <g id=\"ytick_1\">\r\n     <g id=\"line2d_4\">\r\n      <defs>\r\n       <path d=\"M 0 0 \r\nL -3.5 0 \r\n\" id=\"ma23a2731df\" style=\"stroke:#000000;stroke-width:0.8;\"/>\r\n      </defs>\r\n      <g>\r\n       <use style=\"stroke:#000000;stroke-width:0.8;\" x=\"26.925\" xlink:href=\"#ma23a2731df\" y=\"24.076528\"/>\r\n      </g>\r\n     </g>\r\n     <g id=\"text_4\">\r\n      <!-- 0 -->\r\n      <g transform=\"translate(13.5625 27.875747)scale(0.1 -0.1)\">\r\n       <use xlink:href=\"#DejaVuSans-48\"/>\r\n      </g>\r\n     </g>\r\n    </g>\r\n    <g id=\"ytick_2\">\r\n     <g id=\"line2d_5\">\r\n      <g>\r\n       <use style=\"stroke:#000000;stroke-width:0.8;\" x=\"26.925\" xlink:href=\"#ma23a2731df\" y=\"59.244596\"/>\r\n      </g>\r\n     </g>\r\n     <g id=\"text_5\">\r\n      <!-- 10 -->\r\n      <g transform=\"translate(7.2 63.043814)scale(0.1 -0.1)\">\r\n       <use xlink:href=\"#DejaVuSans-49\"/>\r\n       <use x=\"63.623047\" xlink:href=\"#DejaVuSans-48\"/>\r\n      </g>\r\n     </g>\r\n    </g>\r\n    <g id=\"ytick_3\">\r\n     <g id=\"line2d_6\">\r\n      <g>\r\n       <use style=\"stroke:#000000;stroke-width:0.8;\" x=\"26.925\" xlink:href=\"#ma23a2731df\" y=\"94.412663\"/>\r\n      </g>\r\n     </g>\r\n     <g id=\"text_6\">\r\n      <!-- 20 -->\r\n      <g transform=\"translate(7.2 98.211882)scale(0.1 -0.1)\">\r\n       <use xlink:href=\"#DejaVuSans-50\"/>\r\n       <use x=\"63.623047\" xlink:href=\"#DejaVuSans-48\"/>\r\n      </g>\r\n     </g>\r\n    </g>\r\n   </g>\r\n   <g id=\"patch_3\">\r\n    <path d=\"M 26.925 120.788713 \r\nL 26.925 22.318125 \r\n\" style=\"fill:none;stroke:#000000;stroke-linecap:square;stroke-linejoin:miter;stroke-width:0.8;\"/>\r\n   </g>\r\n   <g id=\"patch_4\">\r\n    <path d=\"M 125.395588 120.788713 \r\nL 125.395588 22.318125 \r\n\" style=\"fill:none;stroke:#000000;stroke-linecap:square;stroke-linejoin:miter;stroke-width:0.8;\"/>\r\n   </g>\r\n   <g id=\"patch_5\">\r\n    <path d=\"M 26.925 120.788713 \r\nL 125.395588 120.788713 \r\n\" style=\"fill:none;stroke:#000000;stroke-linecap:square;stroke-linejoin:miter;stroke-width:0.8;\"/>\r\n   </g>\r\n   <g id=\"patch_6\">\r\n    <path d=\"M 26.925 22.318125 \r\nL 125.395588 22.318125 \r\n\" style=\"fill:none;stroke:#000000;stroke-linecap:square;stroke-linejoin:miter;stroke-width:0.8;\"/>\r\n   </g>\r\n   <g id=\"text_7\">\r\n    <!-- 5 -->\r\n    <defs>\r\n     <path d=\"M 10.796875 72.90625 \r\nL 49.515625 72.90625 \r\nL 49.515625 64.59375 \r\nL 19.828125 64.59375 \r\nL 19.828125 46.734375 \r\nQ 21.96875 47.46875 24.109375 47.828125 \r\nQ 26.265625 48.1875 28.421875 48.1875 \r\nQ 40.625 48.1875 47.75 41.5 \r\nQ 54.890625 34.8125 54.890625 23.390625 \r\nQ 54.890625 11.625 47.5625 5.09375 \r\nQ 40.234375 -1.421875 26.90625 -1.421875 \r\nQ 22.3125 -1.421875 17.546875 -0.640625 \r\nQ 12.796875 0.140625 7.71875 1.703125 \r\nL 7.71875 11.625 \r\nQ 12.109375 9.234375 16.796875 8.0625 \r\nQ 21.484375 6.890625 26.703125 6.890625 \r\nQ 35.15625 6.890625 40.078125 11.328125 \r\nQ 45.015625 15.765625 45.015625 23.390625 \r\nQ 45.015625 31 40.078125 35.4375 \r\nQ 35.15625 39.890625 26.703125 39.890625 \r\nQ 22.75 39.890625 18.8125 39.015625 \r\nQ 14.890625 38.140625 10.796875 36.28125 \r\nz\r\n\" id=\"DejaVuSans-53\"/>\r\n    </defs>\r\n    <g transform=\"translate(72.342794 16.318125)scale(0.12 -0.12)\">\r\n     <use xlink:href=\"#DejaVuSans-53\"/>\r\n    </g>\r\n   </g>\r\n  </g>\r\n  <g id=\"axes_2\">\r\n   <g id=\"patch_7\">\r\n    <path d=\"M 145.089706 120.788713 \r\nL 243.560294 120.788713 \r\nL 243.560294 22.318125 \r\nL 145.089706 22.318125 \r\nz\r\n\" style=\"fill:#ffffff;\"/>\r\n   </g>\r\n   <g clip-path=\"url(#p834f2426bc)\">\r\n    <image height=\"99\" id=\"image33a1720592\" transform=\"scale(1 -1)translate(0 -99)\" width=\"99\" x=\"145.089706\" xlink:href=\"data:image/png;base64,\r\niVBORw0KGgoAAAANSUhEUgAAAGMAAABjCAYAAACPO76VAAAABHNCSVQICAgIfAhkiAAABRhJREFUeJztnH9MVWUYx8+VXwnDCwNxlwblQtBFc2RFV2IKWW0B/mja/Edlw82ZMWvRqj+ysTbD2FrNcvZjiSbivGvlhKlt/qqmhZKjzOy6kkXeCkOmxlKZ2X/v+z6Hcb3gOed+dd/PX9+H59xz3vG9z/ue+77nPb5/h65ftwgE4+LdAKKhGUDQDCBoBhA0AwiaAQTNAIJmAEEzgKAZQNAMIGgGEDQDiEQvLvL3pStKv3HgF5H7eO0HOrBPIPt8Si5YXStSjY8XKp2XlXrzjQSAlQEEzQCCZgDhc2Olr+/CZREHX92t9PnOQyN/MMqYMYysPCWrF1eI1CdL7r9xIwFhZQBBM4BwpZtqPxER8ZLlb8b2wUn3iDDZn6H01XBXzNefGKwU8ZOz9Hnfnn9vzOfxGlYGEDQDCJoBhCfTIYKEJBFWrVis9JrHCkXOn6qPPdr7qMi9/tlPSoe75RTLucP7RLz57DmlfzjTL3LvLJyudHGeP2rT3YaVAQTNAMKVbmrYvbJ59xyYIlJbl86I6ZzV/lwZF5ux7MLW7T8t4qamkNLfbf9e5BqSEpTe82xZTG1xC1YGEDQDCJoBhCtjxrC5VmP2tXreA25cUvBSpRyXFkyrV3rVjm6R+3arHk8e+eeqyH39spwNdhtWBhA0AwjPf4G37zou/+DBQlBhIF3pjlUzRe7F/Eylt6z7UOQyj+lb5Pamp0SurCDbySZalsXKgIJmAEEzgPB+1vbyoAjNB9yy01Ncv3xyovz+NddMU3roWp3ItTV/pPQzm/JF7siaOUqnpjjzb2RlAEEzgHClm0pLsp02ebzWfb+KVEtXr9INswvcaE5UzG5rw8L7RK6tWevf9u0Rubop+ta2rdaZWQVWBhA0AwiaAYQrY0ZFUY6Is0pKle7/5oDIbdodVjoeY0ZU/rum9bgEkerqjlhOw8oAgmYAQTOA8GQ65PMGvWJWvuigyEUOfaH08R45vV1yd4YVV8xxwrZXxBdt78hYL+f4GcmYoRlAeNJNmStthVU1Ihfu2KV05fL1Ite+caXSxbnyOdgrQ/q2M8d/hyPtjDesDCBoBhA0AwhPxgxzmjq0MihydRP06t6xbSGRq169Wem03DtF7v3nZild5Q840s7RkH9X5o0PGiWsDCBoBhCeP5CQny3fgPPe03obV2nHl/Lgfr0KOGhoy7Ksxk/1SltFwUSR6+wZEPH+M+eVfr58sshlpiXH0GrLssZPEOG7i6aPcODYYWUAQTOAoBlAeP8Qmw1zquRIS73IBWuN6ZELf4ncaWMa5cFBua9i6RNyf8b61zZoHZDbmzs3LlO6Z0A+YGeu9JXUzBGpotx0y2lYGUDQDCDi3k2ZTLWV/kM1+ld2Z2vIfrjCXKCyLMtqOrhXHmAuBP0ptyUfjeg3JqzdcVJ+zlhccmEtaRisDCBoBhA0AwioMcPOzhUPK/3zXPkGtdkNxhjS+2PM58yYUS5if4qeDjlrH2sMglNzRsw5BSsDCJoBhCsvjPSCk79fVLqsvlUmI6dkbN6Xptu2DJt7R2wzw1+FGpUuCsjb7qRE57/HrAwgaAYQNAOIW3bMMAn/cUnEpcvkw3DWxb7YTuSfJMKBva/cTLNGDSsDCJoBxG3RTdk5FZHd1gs7Tyh9uGW7yM2s1e/VfWtesci5sYAUDVYGEDQDCJoBxG05ZtyqsDKAoBlA0AwgaAYQNAMImgEEzQCCZgBBM4CgGUDQDCBoBhA0A4j/Afh8Asr/t3idAAAAAElFTkSuQmCC\" y=\"-21.788713\"/>\r\n   </g>\r\n   <g id=\"matplotlib.axis_3\">\r\n    <g id=\"xtick_4\">\r\n     <g id=\"line2d_7\">\r\n      <g>\r\n       <use style=\"stroke:#000000;stroke-width:0.8;\" x=\"146.848109\" xlink:href=\"#m8b5938cb11\" y=\"120.788713\"/>\r\n      </g>\r\n     </g>\r\n     <g id=\"text_8\">\r\n      <!-- 0 -->\r\n      <g transform=\"translate(143.666859 135.387151)scale(0.1 -0.1)\">\r\n       <use xlink:href=\"#DejaVuSans-48\"/>\r\n      </g>\r\n     </g>\r\n    </g>\r\n    <g id=\"xtick_5\">\r\n     <g id=\"line2d_8\">\r\n      <g>\r\n       <use style=\"stroke:#000000;stroke-width:0.8;\" x=\"182.016176\" xlink:href=\"#m8b5938cb11\" y=\"120.788713\"/>\r\n      </g>\r\n     </g>\r\n     <g id=\"text_9\">\r\n      <!-- 10 -->\r\n      <g transform=\"translate(175.653676 135.387151)scale(0.1 -0.1)\">\r\n       <use xlink:href=\"#DejaVuSans-49\"/>\r\n       <use x=\"63.623047\" xlink:href=\"#DejaVuSans-48\"/>\r\n      </g>\r\n     </g>\r\n    </g>\r\n    <g id=\"xtick_6\">\r\n     <g id=\"line2d_9\">\r\n      <g>\r\n       <use style=\"stroke:#000000;stroke-width:0.8;\" x=\"217.184244\" xlink:href=\"#m8b5938cb11\" y=\"120.788713\"/>\r\n      </g>\r\n     </g>\r\n     <g id=\"text_10\">\r\n      <!-- 20 -->\r\n      <g transform=\"translate(210.821744 135.387151)scale(0.1 -0.1)\">\r\n       <use xlink:href=\"#DejaVuSans-50\"/>\r\n       <use x=\"63.623047\" xlink:href=\"#DejaVuSans-48\"/>\r\n      </g>\r\n     </g>\r\n    </g>\r\n   </g>\r\n   <g id=\"matplotlib.axis_4\">\r\n    <g id=\"ytick_4\">\r\n     <g id=\"line2d_10\">\r\n      <g>\r\n       <use style=\"stroke:#000000;stroke-width:0.8;\" x=\"145.089706\" xlink:href=\"#ma23a2731df\" y=\"24.076528\"/>\r\n      </g>\r\n     </g>\r\n     <g id=\"text_11\">\r\n      <!-- 0 -->\r\n      <g transform=\"translate(131.727206 27.875747)scale(0.1 -0.1)\">\r\n       <use xlink:href=\"#DejaVuSans-48\"/>\r\n      </g>\r\n     </g>\r\n    </g>\r\n    <g id=\"ytick_5\">\r\n     <g id=\"line2d_11\">\r\n      <g>\r\n       <use style=\"stroke:#000000;stroke-width:0.8;\" x=\"145.089706\" xlink:href=\"#ma23a2731df\" y=\"59.244596\"/>\r\n      </g>\r\n     </g>\r\n     <g id=\"text_12\">\r\n      <!-- 10 -->\r\n      <g transform=\"translate(125.364706 63.043814)scale(0.1 -0.1)\">\r\n       <use xlink:href=\"#DejaVuSans-49\"/>\r\n       <use x=\"63.623047\" xlink:href=\"#DejaVuSans-48\"/>\r\n      </g>\r\n     </g>\r\n    </g>\r\n    <g id=\"ytick_6\">\r\n     <g id=\"line2d_12\">\r\n      <g>\r\n       <use style=\"stroke:#000000;stroke-width:0.8;\" x=\"145.089706\" xlink:href=\"#ma23a2731df\" y=\"94.412663\"/>\r\n      </g>\r\n     </g>\r\n     <g id=\"text_13\">\r\n      <!-- 20 -->\r\n      <g transform=\"translate(125.364706 98.211882)scale(0.1 -0.1)\">\r\n       <use xlink:href=\"#DejaVuSans-50\"/>\r\n       <use x=\"63.623047\" xlink:href=\"#DejaVuSans-48\"/>\r\n      </g>\r\n     </g>\r\n    </g>\r\n   </g>\r\n   <g id=\"patch_8\">\r\n    <path d=\"M 145.089706 120.788713 \r\nL 145.089706 22.318125 \r\n\" style=\"fill:none;stroke:#000000;stroke-linecap:square;stroke-linejoin:miter;stroke-width:0.8;\"/>\r\n   </g>\r\n   <g id=\"patch_9\">\r\n    <path d=\"M 243.560294 120.788713 \r\nL 243.560294 22.318125 \r\n\" style=\"fill:none;stroke:#000000;stroke-linecap:square;stroke-linejoin:miter;stroke-width:0.8;\"/>\r\n   </g>\r\n   <g id=\"patch_10\">\r\n    <path d=\"M 145.089706 120.788713 \r\nL 243.560294 120.788713 \r\n\" style=\"fill:none;stroke:#000000;stroke-linecap:square;stroke-linejoin:miter;stroke-width:0.8;\"/>\r\n   </g>\r\n   <g id=\"patch_11\">\r\n    <path d=\"M 145.089706 22.318125 \r\nL 243.560294 22.318125 \r\n\" style=\"fill:none;stroke:#000000;stroke-linecap:square;stroke-linejoin:miter;stroke-width:0.8;\"/>\r\n   </g>\r\n   <g id=\"text_14\">\r\n    <!-- 0 -->\r\n    <g transform=\"translate(190.5075 16.318125)scale(0.12 -0.12)\">\r\n     <use xlink:href=\"#DejaVuSans-48\"/>\r\n    </g>\r\n   </g>\r\n  </g>\r\n  <g id=\"axes_3\">\r\n   <g id=\"patch_12\">\r\n    <path d=\"M 263.254412 120.788713 \r\nL 361.725 120.788713 \r\nL 361.725 22.318125 \r\nL 263.254412 22.318125 \r\nz\r\n\" style=\"fill:#ffffff;\"/>\r\n   </g>\r\n   <g clip-path=\"url(#p9a699ff58b)\">\r\n    <image height=\"99\" id=\"imagea4bcdad8f9\" transform=\"scale(1 -1)translate(0 -99)\" width=\"99\" x=\"263.254412\" xlink:href=\"data:image/png;base64,\r\niVBORw0KGgoAAAANSUhEUgAAAGMAAABjCAYAAACPO76VAAAABHNCSVQICAgIfAhkiAAAA7hJREFUeJztnE1IVGEUhmcmE/+d/EktzGFQXDiWBYqEFNTCKG0TGGURUUTktlW7oEULJcRNFtRCkQJDLDBxYTsNrdAWlZlkUVpNJoSWZmqrvvudW9bMeGfmHed9Vud4nHs/fTjfuV7vjP37wvKyjUDgCPcCiAFlAEEZQFAGEJQBBGUAQRlAUAYQlAEEZQARE+4FhJq2J29EXne2XsV7zhwXtTuny0Kypt+wM4CgDCCibpu6/mBcfgHopjU7AwjKAIIygIi6mfEHdnu4V6BgZwBBGUBwm9I4tCMrrOdnZwBBGUBQBhCcGdrtkHVhvsxlZwBBGUBwm9K2pqKM1DAuhJ0BBWUAQRlAUAYQlAEEZQDBS1uNpn75TFVz7taQnp+dAQRlAEEZQAQ8My72jIj8/sC7VS+mbl++yLdnOVXsybXmVkVtxRaRD9024vaOx6LWXMOZEbVQBhB2fz4h4fDNQRX3XG2VRWe2CpPy3D4vYGa4z0iWl2QxJtaIE5yilF5UrOKKsjxRq/JkinyXK0PFaUmxopZ58IqRTE+I2nRfw4rrDgbsDCAoAwjKAMKvS9uZuZ9GYtrfWxpOqLjKs8nnY45+OGAc0jS+2p9NqvjF5IyozS8sqrjzxl1R61xaFLktPkWFBeUlsjanHdf0unHvrIpdmYl/Wb21sDOAoAwgKAMIy26hb0yIC+h1BdlJK9Yu5CT7dpCTpSKd1WebzWbrffVJxZc6nsvXzhtzwTwzHk1Mq5gzI8qgDCAs26a6Rr0qLnOnWXXYgEiMkz9WtXapXW267K50GtvrQMstUTtX32t837UjopYcv37V6zTDzgCCMoCgDCD8mhml2izoM9X6X342ksrC1awppLRpl8X5PYOitjBi5N9+1IgaZ8YahzKA8GubOrZts4obtTuhkUy69p+/dLdL1KY+jqnY+3Ve1LJSA7vj8C/YGUBQBhCUAYRfMyNfv8Oa7fsTIJFCSmqCyKe0uPWpfHLkskUP1emwM4CgDCACvmvrcKw9j93nd4u8sPueiodefwn6+dfebzSCoQwgKAOIgGfGqdpykQ+HYE8NNhmmh6L1z0Z/2D8mauNe42E4qx5WYGcAQRlABLxNHfXkiHyve8OqFxNuHA754V/F2l/Zb9/L93zYg/BBYewMICgDCMoAIuCZUeJy/v+bIpz9BcacaGzqMlV3Wn4+dgYQlAGEX289JsGFnQEEZQBBGUBQBhCUAQRlAEEZQFAGEJQBBGUAQRlAUAYQlAEEZQBBGUBQBhCUAcQvIZqf1TqRBwcAAAAASUVORK5CYII=\" y=\"-21.788713\"/>\r\n   </g>\r\n   <g id=\"matplotlib.axis_5\">\r\n    <g id=\"xtick_7\">\r\n     <g id=\"line2d_13\">\r\n      <g>\r\n       <use style=\"stroke:#000000;stroke-width:0.8;\" x=\"265.012815\" xlink:href=\"#m8b5938cb11\" y=\"120.788713\"/>\r\n      </g>\r\n     </g>\r\n     <g id=\"text_15\">\r\n      <!-- 0 -->\r\n      <g transform=\"translate(261.831565 135.387151)scale(0.1 -0.1)\">\r\n       <use xlink:href=\"#DejaVuSans-48\"/>\r\n      </g>\r\n     </g>\r\n    </g>\r\n    <g id=\"xtick_8\">\r\n     <g id=\"line2d_14\">\r\n      <g>\r\n       <use style=\"stroke:#000000;stroke-width:0.8;\" x=\"300.180882\" xlink:href=\"#m8b5938cb11\" y=\"120.788713\"/>\r\n      </g>\r\n     </g>\r\n     <g id=\"text_16\">\r\n      <!-- 10 -->\r\n      <g transform=\"translate(293.818382 135.387151)scale(0.1 -0.1)\">\r\n       <use xlink:href=\"#DejaVuSans-49\"/>\r\n       <use x=\"63.623047\" xlink:href=\"#DejaVuSans-48\"/>\r\n      </g>\r\n     </g>\r\n    </g>\r\n    <g id=\"xtick_9\">\r\n     <g id=\"line2d_15\">\r\n      <g>\r\n       <use style=\"stroke:#000000;stroke-width:0.8;\" x=\"335.34895\" xlink:href=\"#m8b5938cb11\" y=\"120.788713\"/>\r\n      </g>\r\n     </g>\r\n     <g id=\"text_17\">\r\n      <!-- 20 -->\r\n      <g transform=\"translate(328.98645 135.387151)scale(0.1 -0.1)\">\r\n       <use xlink:href=\"#DejaVuSans-50\"/>\r\n       <use x=\"63.623047\" xlink:href=\"#DejaVuSans-48\"/>\r\n      </g>\r\n     </g>\r\n    </g>\r\n   </g>\r\n   <g id=\"matplotlib.axis_6\">\r\n    <g id=\"ytick_7\">\r\n     <g id=\"line2d_16\">\r\n      <g>\r\n       <use style=\"stroke:#000000;stroke-width:0.8;\" x=\"263.254412\" xlink:href=\"#ma23a2731df\" y=\"24.076528\"/>\r\n      </g>\r\n     </g>\r\n     <g id=\"text_18\">\r\n      <!-- 0 -->\r\n      <g transform=\"translate(249.891912 27.875747)scale(0.1 -0.1)\">\r\n       <use xlink:href=\"#DejaVuSans-48\"/>\r\n      </g>\r\n     </g>\r\n    </g>\r\n    <g id=\"ytick_8\">\r\n     <g id=\"line2d_17\">\r\n      <g>\r\n       <use style=\"stroke:#000000;stroke-width:0.8;\" x=\"263.254412\" xlink:href=\"#ma23a2731df\" y=\"59.244596\"/>\r\n      </g>\r\n     </g>\r\n     <g id=\"text_19\">\r\n      <!-- 10 -->\r\n      <g transform=\"translate(243.529412 63.043814)scale(0.1 -0.1)\">\r\n       <use xlink:href=\"#DejaVuSans-49\"/>\r\n       <use x=\"63.623047\" xlink:href=\"#DejaVuSans-48\"/>\r\n      </g>\r\n     </g>\r\n    </g>\r\n    <g id=\"ytick_9\">\r\n     <g id=\"line2d_18\">\r\n      <g>\r\n       <use style=\"stroke:#000000;stroke-width:0.8;\" x=\"263.254412\" xlink:href=\"#ma23a2731df\" y=\"94.412663\"/>\r\n      </g>\r\n     </g>\r\n     <g id=\"text_20\">\r\n      <!-- 20 -->\r\n      <g transform=\"translate(243.529412 98.211882)scale(0.1 -0.1)\">\r\n       <use xlink:href=\"#DejaVuSans-50\"/>\r\n       <use x=\"63.623047\" xlink:href=\"#DejaVuSans-48\"/>\r\n      </g>\r\n     </g>\r\n    </g>\r\n   </g>\r\n   <g id=\"patch_13\">\r\n    <path d=\"M 263.254412 120.788713 \r\nL 263.254412 22.318125 \r\n\" style=\"fill:none;stroke:#000000;stroke-linecap:square;stroke-linejoin:miter;stroke-width:0.8;\"/>\r\n   </g>\r\n   <g id=\"patch_14\">\r\n    <path d=\"M 361.725 120.788713 \r\nL 361.725 22.318125 \r\n\" style=\"fill:none;stroke:#000000;stroke-linecap:square;stroke-linejoin:miter;stroke-width:0.8;\"/>\r\n   </g>\r\n   <g id=\"patch_15\">\r\n    <path d=\"M 263.254412 120.788713 \r\nL 361.725 120.788713 \r\n\" style=\"fill:none;stroke:#000000;stroke-linecap:square;stroke-linejoin:miter;stroke-width:0.8;\"/>\r\n   </g>\r\n   <g id=\"patch_16\">\r\n    <path d=\"M 263.254412 22.318125 \r\nL 361.725 22.318125 \r\n\" style=\"fill:none;stroke:#000000;stroke-linecap:square;stroke-linejoin:miter;stroke-width:0.8;\"/>\r\n   </g>\r\n   <g id=\"text_21\">\r\n    <!-- 4 -->\r\n    <defs>\r\n     <path d=\"M 37.796875 64.3125 \r\nL 12.890625 25.390625 \r\nL 37.796875 25.390625 \r\nz\r\nM 35.203125 72.90625 \r\nL 47.609375 72.90625 \r\nL 47.609375 25.390625 \r\nL 58.015625 25.390625 \r\nL 58.015625 17.1875 \r\nL 47.609375 17.1875 \r\nL 47.609375 0 \r\nL 37.796875 0 \r\nL 37.796875 17.1875 \r\nL 4.890625 17.1875 \r\nL 4.890625 26.703125 \r\nz\r\n\" id=\"DejaVuSans-52\"/>\r\n    </defs>\r\n    <g transform=\"translate(308.672206 16.318125)scale(0.12 -0.12)\">\r\n     <use xlink:href=\"#DejaVuSans-52\"/>\r\n    </g>\r\n   </g>\r\n  </g>\r\n  <g id=\"axes_4\">\r\n   <g id=\"patch_17\">\r\n    <path d=\"M 26.925 239.39235 \r\nL 125.395588 239.39235 \r\nL 125.395588 140.921761 \r\nL 26.925 140.921761 \r\nz\r\n\" style=\"fill:#ffffff;\"/>\r\n   </g>\r\n   <g clip-path=\"url(#pb614fb3ce4)\">\r\n    <image height=\"99\" id=\"image6886eb4fe4\" transform=\"scale(1 -1)translate(0 -99)\" width=\"99\" x=\"26.925\" xlink:href=\"data:image/png;base64,\r\niVBORw0KGgoAAAANSUhEUgAAAGMAAABjCAYAAACPO76VAAAABHNCSVQICAgIfAhkiAAAA2pJREFUeJztnF1IU2EYx+fKpubFlkEfVppdSR+YCGXdWEGtD8KKMKKLIryICEsqFa8GEdZFN5Efja1uyqRL6yIWRawSidJIioQRg1AGrVmmopHr7t15Flsrzs75u/1/V8+z5xz2yI/nfc/GO3OmfkajFgKB1ewGSAzKAIIygKAMICgDCMoAgjKAoAwgKAMIygBivtFvGB6fFvlWl0/FIb9P1KxlFbH7uk+ktzEAOBlAUAYQhi9TwS+TIg+9eGJ0C7BwMoCgDCAoAwjKAIIygKAMIAx/tC3Mi3vLJWti8eiwKM1+/qjik/cGRa390HoV23Ln6degiXAygKAMICgDiByzD7Ht7ehT8UvvHVm0Jt4L3j+6ouJl9jzd+zIDTgYQlAGE6cuUFsemBvlCkmXK29Wo4gMbVqSrJUPhZABBGUBQBhCGfx2SlKKVMo+MJLy06dYbFe9qWypqBTasPytVOBlAUAYQUI+2w6PjIt987r6Ko8GhhPetq90vcn9Tja59GQUnAwjKAIIygIDaM+I57H2l4sfu7pTvG+y9JPKSxQW69ZROOBlAUAYQ0MvUSGRKxWudzSnft+X4EZE/PFWtW0/phJMBBGUAQRlAQH+9udyRr+Ke2y2iVnfGHUsmIqIWCIRFHv4xo+KiwgU6dqgvnAwgKAMIygAC+nNGMrr6Pqm4ufG6LM7+Emnpzj0q9rfuELU/DmKbCCcDCMoAYs4uU9qvSqpbHoja94Hn8mLNYbj61npRurqvXP/m/hNOBhCUAQRlADFn9wwtYxMzIl+9/YK8QHuA2i4PvPluxPaQqjKH7r39C5wMICgDiIxYpuKpvdkv8meeuwmvLd7mVPFQ2+609ZQKnAwgKAMIygAiI/eMt8Exkdc0aH7SHAokvK+z/azI6zau0rWvv8HJAIIygMjIZSqe/sBXFTtPu2XxW0iF+eVVovT62kEVL1qYK2rp+E8+nAwgKAMIygAiK/YMLed7P4jcc9md4EqLONjwtMclShWldl37slg4GVBQBhA4h4YMorJY/qTMY9Pk05MWM+FkAEEZQFAGEFm3ZxytLBH5u4vHVNzp6pAXax5tjXj+52QAQRlAZN0ncGQ4GUBQBhCUAQRlAEEZQFAGEJQBBGUAQRlAUAYQlAEEZQBBGUBQBhCUAQRlAEEZQPwGvXK6lxzF5AQAAAAASUVORK5CYII=\" y=\"-140.39235\"/>\r\n   </g>\r\n   <g id=\"matplotlib.axis_7\">\r\n    <g id=\"xtick_10\">\r\n     <g id=\"line2d_19\">\r\n      <g>\r\n       <use style=\"stroke:#000000;stroke-width:0.8;\" x=\"28.683403\" xlink:href=\"#m8b5938cb11\" y=\"239.39235\"/>\r\n      </g>\r\n     </g>\r\n     <g id=\"text_22\">\r\n      <!-- 0 -->\r\n      <g transform=\"translate(25.502153 253.990787)scale(0.1 -0.1)\">\r\n       <use xlink:href=\"#DejaVuSans-48\"/>\r\n      </g>\r\n     </g>\r\n    </g>\r\n    <g id=\"xtick_11\">\r\n     <g id=\"line2d_20\">\r\n      <g>\r\n       <use style=\"stroke:#000000;stroke-width:0.8;\" x=\"63.851471\" xlink:href=\"#m8b5938cb11\" y=\"239.39235\"/>\r\n      </g>\r\n     </g>\r\n     <g id=\"text_23\">\r\n      <!-- 10 -->\r\n      <g transform=\"translate(57.488971 253.990787)scale(0.1 -0.1)\">\r\n       <use xlink:href=\"#DejaVuSans-49\"/>\r\n       <use x=\"63.623047\" xlink:href=\"#DejaVuSans-48\"/>\r\n      </g>\r\n     </g>\r\n    </g>\r\n    <g id=\"xtick_12\">\r\n     <g id=\"line2d_21\">\r\n      <g>\r\n       <use style=\"stroke:#000000;stroke-width:0.8;\" x=\"99.019538\" xlink:href=\"#m8b5938cb11\" y=\"239.39235\"/>\r\n      </g>\r\n     </g>\r\n     <g id=\"text_24\">\r\n      <!-- 20 -->\r\n      <g transform=\"translate(92.657038 253.990787)scale(0.1 -0.1)\">\r\n       <use xlink:href=\"#DejaVuSans-50\"/>\r\n       <use x=\"63.623047\" xlink:href=\"#DejaVuSans-48\"/>\r\n      </g>\r\n     </g>\r\n    </g>\r\n   </g>\r\n   <g id=\"matplotlib.axis_8\">\r\n    <g id=\"ytick_10\">\r\n     <g id=\"line2d_22\">\r\n      <g>\r\n       <use style=\"stroke:#000000;stroke-width:0.8;\" x=\"26.925\" xlink:href=\"#ma23a2731df\" y=\"142.680165\"/>\r\n      </g>\r\n     </g>\r\n     <g id=\"text_25\">\r\n      <!-- 0 -->\r\n      <g transform=\"translate(13.5625 146.479383)scale(0.1 -0.1)\">\r\n       <use xlink:href=\"#DejaVuSans-48\"/>\r\n      </g>\r\n     </g>\r\n    </g>\r\n    <g id=\"ytick_11\">\r\n     <g id=\"line2d_23\">\r\n      <g>\r\n       <use style=\"stroke:#000000;stroke-width:0.8;\" x=\"26.925\" xlink:href=\"#ma23a2731df\" y=\"177.848232\"/>\r\n      </g>\r\n     </g>\r\n     <g id=\"text_26\">\r\n      <!-- 10 -->\r\n      <g transform=\"translate(7.2 181.647451)scale(0.1 -0.1)\">\r\n       <use xlink:href=\"#DejaVuSans-49\"/>\r\n       <use x=\"63.623047\" xlink:href=\"#DejaVuSans-48\"/>\r\n      </g>\r\n     </g>\r\n    </g>\r\n    <g id=\"ytick_12\">\r\n     <g id=\"line2d_24\">\r\n      <g>\r\n       <use style=\"stroke:#000000;stroke-width:0.8;\" x=\"26.925\" xlink:href=\"#ma23a2731df\" y=\"213.016299\"/>\r\n      </g>\r\n     </g>\r\n     <g id=\"text_27\">\r\n      <!-- 20 -->\r\n      <g transform=\"translate(7.2 216.815518)scale(0.1 -0.1)\">\r\n       <use xlink:href=\"#DejaVuSans-50\"/>\r\n       <use x=\"63.623047\" xlink:href=\"#DejaVuSans-48\"/>\r\n      </g>\r\n     </g>\r\n    </g>\r\n   </g>\r\n   <g id=\"patch_18\">\r\n    <path d=\"M 26.925 239.39235 \r\nL 26.925 140.921761 \r\n\" style=\"fill:none;stroke:#000000;stroke-linecap:square;stroke-linejoin:miter;stroke-width:0.8;\"/>\r\n   </g>\r\n   <g id=\"patch_19\">\r\n    <path d=\"M 125.395588 239.39235 \r\nL 125.395588 140.921761 \r\n\" style=\"fill:none;stroke:#000000;stroke-linecap:square;stroke-linejoin:miter;stroke-width:0.8;\"/>\r\n   </g>\r\n   <g id=\"patch_20\">\r\n    <path d=\"M 26.925 239.39235 \r\nL 125.395588 239.39235 \r\n\" style=\"fill:none;stroke:#000000;stroke-linecap:square;stroke-linejoin:miter;stroke-width:0.8;\"/>\r\n   </g>\r\n   <g id=\"patch_21\">\r\n    <path d=\"M 26.925 140.921761 \r\nL 125.395588 140.921761 \r\n\" style=\"fill:none;stroke:#000000;stroke-linecap:square;stroke-linejoin:miter;stroke-width:0.8;\"/>\r\n   </g>\r\n   <g id=\"text_28\">\r\n    <!-- 1 -->\r\n    <g transform=\"translate(72.342794 134.921761)scale(0.12 -0.12)\">\r\n     <use xlink:href=\"#DejaVuSans-49\"/>\r\n    </g>\r\n   </g>\r\n  </g>\r\n  <g id=\"axes_5\">\r\n   <g id=\"patch_22\">\r\n    <path d=\"M 145.089706 239.39235 \r\nL 243.560294 239.39235 \r\nL 243.560294 140.921761 \r\nL 145.089706 140.921761 \r\nz\r\n\" style=\"fill:#ffffff;\"/>\r\n   </g>\r\n   <g clip-path=\"url(#pf959a3e426)\">\r\n    <image height=\"99\" id=\"imageeac7845429\" transform=\"scale(1 -1)translate(0 -99)\" width=\"99\" x=\"145.089706\" xlink:href=\"data:image/png;base64,\r\niVBORw0KGgoAAAANSUhEUgAAAGMAAABjCAYAAACPO76VAAAABHNCSVQICAgIfAhkiAAABDhJREFUeJztnFlIFWEUx8cyMYT2MtKkaMHqQYteKs20zYoKaXvK7MGMpIWgQAt6aKEeLGihoodoIaweogVNLItspTSjRbN93yxbzBaXevu+OUPjgndm/tf+v6f/4Yz3O9e/53wzc8cb8KPmzx+DQNDG6wKIhmYAQTOACPS6ACf4/rNWxKmHbymdu/OAyBWfWK903x4hzhbWCOwMIGgGEK1iTFnHUsz6syJ+mp+rdNTMJJHr2SnYucKaCTsDCJoBBM0AolXsGcfvvRKxeY8wDMMIGzNR6b3Jw0WufVBb5wprJuwMIGgGEK1iTC3NOt9gPjt9pNJeX2U3BDsDCJoBBM0Awm/3jEfvqpSuLb8uk23k6WpYl/ZulNRi2BlA0Awg/HZM5T18rwPLWDICAtwtxkewM4CgGUDQDCD8ds+ICu3gdQk+h50BBM0Awm/H1Kj+3bwuweewM4CgGUDQDCD8ds+49LDC6xJ8DjsDCJoBhN+OqZBAU+n1dTJpuYu7v/iF0ktj+zlZVotgZwBBM4CgGUC4smfcfflV6ZjUXTL5ST8nGzhgmEglTY1WOiO+v8j17qofMug5ZpLIvS3MF/HN518Nf4CdAQTNACLAiW9I+PajRsQRs3fo4MNTebB5+eY8SBAWqXW95S28uS/j7n2UrDy5rOlruAw7AwiaAQTNAMKRU9uaOssMt+4TJkrzNikdFCj/NrZdfqL0wZwykau4XaKDqk/yRa17T8VzJQvK3otUQmQP29rchp0BBM0AgmYA4c51xqztOqh4JnKRU6cpfWVVQpPXePGxWum4NadFrvLGBdufi54lv64iZ3GM0l7/GzI7AwiaAYQjY8rKylOlSu9Za7lrG6TvvkYmThCpcyvjlA5uZz9CftXIT/ouPpIPK8xM26qDn1UiNz8zTenN0wfbruEG7AwgaAYQNAMIV/YMM0uO3RHxgY17TNXI2xhTFs1VevfsKJELCW76nZzQZP0lkb/Li2yPO7I3Q8TjB4U2eQ1fwM4AgmYA4fqYsnKoWF+Rpy/aYntc3wmTRVyYqa/WGxtZR0v0Q2wLFmbZHxguT20f70tRunNIUINr+AJ2BhA0AwiaAYTne0ZtXb3SZa+/iVzsvM06qP4icr3i9K2T/QtHiFxUREcR/67Va8RuKBC5x3k5OrD8KlZsSFc6c+zAf5XvU9gZQNAMIDwfUw1x/LZ+Djcl44hMmj+ksryFsPhEEVd++Kx09d1r9gtaXmfonBlKFywf3Vi5LYadAQTNAIJmAAG9Z5gx/4+HYRjGujPlSl8ofCBy1Xeu2r5O5sbFIh7YTX/SmF30RuRWj9Ons0PCnf8WH3YGEDQDCL8ZU/8D7AwgaAYQNAMImgEEzQCCZgBBM4CgGUDQDCBoBhA0AwiaAQTNAIJmAEEzgKAZQNAMIGgGEDQDCJoBBM0AgmYAQTOAoBlA/AUXUfS4C26dDQAAAABJRU5ErkJggg==\" y=\"-140.39235\"/>\r\n   </g>\r\n   <g id=\"matplotlib.axis_9\">\r\n    <g id=\"xtick_13\">\r\n     <g id=\"line2d_25\">\r\n      <g>\r\n       <use style=\"stroke:#000000;stroke-width:0.8;\" x=\"146.848109\" xlink:href=\"#m8b5938cb11\" y=\"239.39235\"/>\r\n      </g>\r\n     </g>\r\n     <g id=\"text_29\">\r\n      <!-- 0 -->\r\n      <g transform=\"translate(143.666859 253.990787)scale(0.1 -0.1)\">\r\n       <use xlink:href=\"#DejaVuSans-48\"/>\r\n      </g>\r\n     </g>\r\n    </g>\r\n    <g id=\"xtick_14\">\r\n     <g id=\"line2d_26\">\r\n      <g>\r\n       <use style=\"stroke:#000000;stroke-width:0.8;\" x=\"182.016176\" xlink:href=\"#m8b5938cb11\" y=\"239.39235\"/>\r\n      </g>\r\n     </g>\r\n     <g id=\"text_30\">\r\n      <!-- 10 -->\r\n      <g transform=\"translate(175.653676 253.990787)scale(0.1 -0.1)\">\r\n       <use xlink:href=\"#DejaVuSans-49\"/>\r\n       <use x=\"63.623047\" xlink:href=\"#DejaVuSans-48\"/>\r\n      </g>\r\n     </g>\r\n    </g>\r\n    <g id=\"xtick_15\">\r\n     <g id=\"line2d_27\">\r\n      <g>\r\n       <use style=\"stroke:#000000;stroke-width:0.8;\" x=\"217.184244\" xlink:href=\"#m8b5938cb11\" y=\"239.39235\"/>\r\n      </g>\r\n     </g>\r\n     <g id=\"text_31\">\r\n      <!-- 20 -->\r\n      <g transform=\"translate(210.821744 253.990787)scale(0.1 -0.1)\">\r\n       <use xlink:href=\"#DejaVuSans-50\"/>\r\n       <use x=\"63.623047\" xlink:href=\"#DejaVuSans-48\"/>\r\n      </g>\r\n     </g>\r\n    </g>\r\n   </g>\r\n   <g id=\"matplotlib.axis_10\">\r\n    <g id=\"ytick_13\">\r\n     <g id=\"line2d_28\">\r\n      <g>\r\n       <use style=\"stroke:#000000;stroke-width:0.8;\" x=\"145.089706\" xlink:href=\"#ma23a2731df\" y=\"142.680165\"/>\r\n      </g>\r\n     </g>\r\n     <g id=\"text_32\">\r\n      <!-- 0 -->\r\n      <g transform=\"translate(131.727206 146.479383)scale(0.1 -0.1)\">\r\n       <use xlink:href=\"#DejaVuSans-48\"/>\r\n      </g>\r\n     </g>\r\n    </g>\r\n    <g id=\"ytick_14\">\r\n     <g id=\"line2d_29\">\r\n      <g>\r\n       <use style=\"stroke:#000000;stroke-width:0.8;\" x=\"145.089706\" xlink:href=\"#ma23a2731df\" y=\"177.848232\"/>\r\n      </g>\r\n     </g>\r\n     <g id=\"text_33\">\r\n      <!-- 10 -->\r\n      <g transform=\"translate(125.364706 181.647451)scale(0.1 -0.1)\">\r\n       <use xlink:href=\"#DejaVuSans-49\"/>\r\n       <use x=\"63.623047\" xlink:href=\"#DejaVuSans-48\"/>\r\n      </g>\r\n     </g>\r\n    </g>\r\n    <g id=\"ytick_15\">\r\n     <g id=\"line2d_30\">\r\n      <g>\r\n       <use style=\"stroke:#000000;stroke-width:0.8;\" x=\"145.089706\" xlink:href=\"#ma23a2731df\" y=\"213.016299\"/>\r\n      </g>\r\n     </g>\r\n     <g id=\"text_34\">\r\n      <!-- 20 -->\r\n      <g transform=\"translate(125.364706 216.815518)scale(0.1 -0.1)\">\r\n       <use xlink:href=\"#DejaVuSans-50\"/>\r\n       <use x=\"63.623047\" xlink:href=\"#DejaVuSans-48\"/>\r\n      </g>\r\n     </g>\r\n    </g>\r\n   </g>\r\n   <g id=\"patch_23\">\r\n    <path d=\"M 145.089706 239.39235 \r\nL 145.089706 140.921761 \r\n\" style=\"fill:none;stroke:#000000;stroke-linecap:square;stroke-linejoin:miter;stroke-width:0.8;\"/>\r\n   </g>\r\n   <g id=\"patch_24\">\r\n    <path d=\"M 243.560294 239.39235 \r\nL 243.560294 140.921761 \r\n\" style=\"fill:none;stroke:#000000;stroke-linecap:square;stroke-linejoin:miter;stroke-width:0.8;\"/>\r\n   </g>\r\n   <g id=\"patch_25\">\r\n    <path d=\"M 145.089706 239.39235 \r\nL 243.560294 239.39235 \r\n\" style=\"fill:none;stroke:#000000;stroke-linecap:square;stroke-linejoin:miter;stroke-width:0.8;\"/>\r\n   </g>\r\n   <g id=\"patch_26\">\r\n    <path d=\"M 145.089706 140.921761 \r\nL 243.560294 140.921761 \r\n\" style=\"fill:none;stroke:#000000;stroke-linecap:square;stroke-linejoin:miter;stroke-width:0.8;\"/>\r\n   </g>\r\n   <g id=\"text_35\">\r\n    <!-- 9 -->\r\n    <defs>\r\n     <path d=\"M 10.984375 1.515625 \r\nL 10.984375 10.5 \r\nQ 14.703125 8.734375 18.5 7.8125 \r\nQ 22.3125 6.890625 25.984375 6.890625 \r\nQ 35.75 6.890625 40.890625 13.453125 \r\nQ 46.046875 20.015625 46.78125 33.40625 \r\nQ 43.953125 29.203125 39.59375 26.953125 \r\nQ 35.25 24.703125 29.984375 24.703125 \r\nQ 19.046875 24.703125 12.671875 31.3125 \r\nQ 6.296875 37.9375 6.296875 49.421875 \r\nQ 6.296875 60.640625 12.9375 67.421875 \r\nQ 19.578125 74.21875 30.609375 74.21875 \r\nQ 43.265625 74.21875 49.921875 64.515625 \r\nQ 56.59375 54.828125 56.59375 36.375 \r\nQ 56.59375 19.140625 48.40625 8.859375 \r\nQ 40.234375 -1.421875 26.421875 -1.421875 \r\nQ 22.703125 -1.421875 18.890625 -0.6875 \r\nQ 15.09375 0.046875 10.984375 1.515625 \r\nz\r\nM 30.609375 32.421875 \r\nQ 37.25 32.421875 41.125 36.953125 \r\nQ 45.015625 41.5 45.015625 49.421875 \r\nQ 45.015625 57.28125 41.125 61.84375 \r\nQ 37.25 66.40625 30.609375 66.40625 \r\nQ 23.96875 66.40625 20.09375 61.84375 \r\nQ 16.21875 57.28125 16.21875 49.421875 \r\nQ 16.21875 41.5 20.09375 36.953125 \r\nQ 23.96875 32.421875 30.609375 32.421875 \r\nz\r\n\" id=\"DejaVuSans-57\"/>\r\n    </defs>\r\n    <g transform=\"translate(190.5075 134.921761)scale(0.12 -0.12)\">\r\n     <use xlink:href=\"#DejaVuSans-57\"/>\r\n    </g>\r\n   </g>\r\n  </g>\r\n  <g id=\"axes_6\">\r\n   <g id=\"patch_27\">\r\n    <path d=\"M 263.254412 239.39235 \r\nL 361.725 239.39235 \r\nL 361.725 140.921761 \r\nL 263.254412 140.921761 \r\nz\r\n\" style=\"fill:#ffffff;\"/>\r\n   </g>\r\n   <g clip-path=\"url(#p74da356bec)\">\r\n    <image height=\"99\" id=\"image8dd04a2c22\" transform=\"scale(1 -1)translate(0 -99)\" width=\"99\" x=\"263.254412\" xlink:href=\"data:image/png;base64,\r\niVBORw0KGgoAAAANSUhEUgAAAGMAAABjCAYAAACPO76VAAAABHNCSVQICAgIfAhkiAAABQFJREFUeJztnGlsVFUcxW+nCx1KpwUtUKFDG6AGtbaWhA8sLjEkVhYTQzQhFkHDEq3WsGhMhA+4kbgENSYmBGqCBDSBshWJWqJttKam1O4orcUgNtqGUmQ6hU4Hv937/i95zTDMcijn9+n8c97ceZPT/7vTO/e9BP/w9euKQOCK9wkQA8MAgmEAwTCAYBhAMAwgGAYQDAMIhgEEwwCCYQDBMIBgGEAwDCAYBhAMAwiGAURSpAbyXQ1oXdXRI7wTbX1ae+8YL7zyhXlae1Ll6SQn3V5/K7fXpwWHYQCREKkNCTnrvtT6SnNdWGPkL1km6ifm52hdWjRdeNmZqVonJY6Nv6mx8SnGCAwDCIYBRMTmjInLdpqi95w0x6Vp6ZlTJCy/z6/18NnTIb/fhm0btH7rsbuFl+hKCHkcJNgZQDAMICJ2mfrspz+0fn3jx9Icn6FlxUfrhPXIzMlaN1+4JLytR9q1bjr+rRxz6IqWa99YL6xNi/JEPSUjVd0slc1/ifqdyjOOxx4qm691jm3FYTTYGUAwDCAYBhARmzNGgmaYsoMtwjvwwR5TpE0U3tvbS7V+pjhHeB53stYdFy4Lb+mOaq0v/vKD8JJnF4v66+1mmWVunnx/35BZbW48L+esN0/+pnX94e+Ep3z9yhFvgZb9Xz3vfJwNdgYQDAOIiF2mrARGgqJ+ubJN6/3v73Z83aySpaI+9epDWqdbLllKKdXvu6b1A1uOCm+goVYOnOLWcs3mVcKq7/hH67bDRxzPLXdxiah3rZmntcft/Btdfna6o2eHnQEEwwCCYQARlTnDznDAzCE1nb3CW7H6XcfXrd9qljlWFtwlvPu9ZollYHBYePeWHxS1r+Xn0E/Wwue7tmhdMidbeClR2CzBzgCCYQARk8uUFfvX3t97zOrrgpf2yYN7zH/Ayu2RXsYULQsX3iesphOn5LGDA84nlJWr5abyx4X12sOztI7FHi52BhAMAwiGAUTM54zRGLo2IuruXp/Wz+6uF97ZqmPOAwXlOMqV6Hxsdr6WLXueE9b0SW770VGFnQEEwwCCYQABNWfcCDtrurS+OBgQXtD2kVwJZlPb3mOtwrtkWW6fvOBR4bW/Z5b0Y7Exjp0BBMMAImK3kcWaVx6cGdbrfv1TbiSobTD63x+rhdd6fpHWhTMyw3q/G4GdAQTDAIJhABH3OaP38lWtd3zfJbzVRdO0nmZbmpg0ISWs93uyeKqoayvCGiYqsDOAYBhAxP0yVfJhjdZdJ6uEZ9mhq1x5hcIrmme+2u6zbChTSqmpmc73Y3jTQ79fItawM4BgGEAwDCDiPmdsXG5+aXvRNmdYCXY3ifq0pS5o6BZe66dPi9p6T9/srAlhnWcsYGcAwTCAiPtlavk95r/sQ2tXCq/6wDem+K9PORHobBR1QZn8Iajpk6du4gxjBzsDCIYBBMMAAnpDwjnLJrbNR9uEV73Xch+f5dEVSiml7B/JazZGu9PThOVvt2yOu3OG8BorzKM1crPk66IBOwMIhgEE9GVqNP7uNw8NK6+Ue6Hq6uSPVKHeRrbkhVJRf7FqbphnFx7sDCAYBhAMA4hbds4YDetz2ZVSym+57+P4Gfmc9s6+Ia23Lc4XXjRuLx4NdgYQDAOIMXmZulVhZwDBMIBgGEAwDCAYBhAMAwiGAQTDAIJhAMEwgGAYQDAMIBgGEAwDCIYBBMMAgmEA8T/q1jeeM95qPgAAAABJRU5ErkJggg==\" y=\"-140.39235\"/>\r\n   </g>\r\n   <g id=\"matplotlib.axis_11\">\r\n    <g id=\"xtick_16\">\r\n     <g id=\"line2d_31\">\r\n      <g>\r\n       <use style=\"stroke:#000000;stroke-width:0.8;\" x=\"265.012815\" xlink:href=\"#m8b5938cb11\" y=\"239.39235\"/>\r\n      </g>\r\n     </g>\r\n     <g id=\"text_36\">\r\n      <!-- 0 -->\r\n      <g transform=\"translate(261.831565 253.990787)scale(0.1 -0.1)\">\r\n       <use xlink:href=\"#DejaVuSans-48\"/>\r\n      </g>\r\n     </g>\r\n    </g>\r\n    <g id=\"xtick_17\">\r\n     <g id=\"line2d_32\">\r\n      <g>\r\n       <use style=\"stroke:#000000;stroke-width:0.8;\" x=\"300.180882\" xlink:href=\"#m8b5938cb11\" y=\"239.39235\"/>\r\n      </g>\r\n     </g>\r\n     <g id=\"text_37\">\r\n      <!-- 10 -->\r\n      <g transform=\"translate(293.818382 253.990787)scale(0.1 -0.1)\">\r\n       <use xlink:href=\"#DejaVuSans-49\"/>\r\n       <use x=\"63.623047\" xlink:href=\"#DejaVuSans-48\"/>\r\n      </g>\r\n     </g>\r\n    </g>\r\n    <g id=\"xtick_18\">\r\n     <g id=\"line2d_33\">\r\n      <g>\r\n       <use style=\"stroke:#000000;stroke-width:0.8;\" x=\"335.34895\" xlink:href=\"#m8b5938cb11\" y=\"239.39235\"/>\r\n      </g>\r\n     </g>\r\n     <g id=\"text_38\">\r\n      <!-- 20 -->\r\n      <g transform=\"translate(328.98645 253.990787)scale(0.1 -0.1)\">\r\n       <use xlink:href=\"#DejaVuSans-50\"/>\r\n       <use x=\"63.623047\" xlink:href=\"#DejaVuSans-48\"/>\r\n      </g>\r\n     </g>\r\n    </g>\r\n   </g>\r\n   <g id=\"matplotlib.axis_12\">\r\n    <g id=\"ytick_16\">\r\n     <g id=\"line2d_34\">\r\n      <g>\r\n       <use style=\"stroke:#000000;stroke-width:0.8;\" x=\"263.254412\" xlink:href=\"#ma23a2731df\" y=\"142.680165\"/>\r\n      </g>\r\n     </g>\r\n     <g id=\"text_39\">\r\n      <!-- 0 -->\r\n      <g transform=\"translate(249.891912 146.479383)scale(0.1 -0.1)\">\r\n       <use xlink:href=\"#DejaVuSans-48\"/>\r\n      </g>\r\n     </g>\r\n    </g>\r\n    <g id=\"ytick_17\">\r\n     <g id=\"line2d_35\">\r\n      <g>\r\n       <use style=\"stroke:#000000;stroke-width:0.8;\" x=\"263.254412\" xlink:href=\"#ma23a2731df\" y=\"177.848232\"/>\r\n      </g>\r\n     </g>\r\n     <g id=\"text_40\">\r\n      <!-- 10 -->\r\n      <g transform=\"translate(243.529412 181.647451)scale(0.1 -0.1)\">\r\n       <use xlink:href=\"#DejaVuSans-49\"/>\r\n       <use x=\"63.623047\" xlink:href=\"#DejaVuSans-48\"/>\r\n      </g>\r\n     </g>\r\n    </g>\r\n    <g id=\"ytick_18\">\r\n     <g id=\"line2d_36\">\r\n      <g>\r\n       <use style=\"stroke:#000000;stroke-width:0.8;\" x=\"263.254412\" xlink:href=\"#ma23a2731df\" y=\"213.016299\"/>\r\n      </g>\r\n     </g>\r\n     <g id=\"text_41\">\r\n      <!-- 20 -->\r\n      <g transform=\"translate(243.529412 216.815518)scale(0.1 -0.1)\">\r\n       <use xlink:href=\"#DejaVuSans-50\"/>\r\n       <use x=\"63.623047\" xlink:href=\"#DejaVuSans-48\"/>\r\n      </g>\r\n     </g>\r\n    </g>\r\n   </g>\r\n   <g id=\"patch_28\">\r\n    <path d=\"M 263.254412 239.39235 \r\nL 263.254412 140.921761 \r\n\" style=\"fill:none;stroke:#000000;stroke-linecap:square;stroke-linejoin:miter;stroke-width:0.8;\"/>\r\n   </g>\r\n   <g id=\"patch_29\">\r\n    <path d=\"M 361.725 239.39235 \r\nL 361.725 140.921761 \r\n\" style=\"fill:none;stroke:#000000;stroke-linecap:square;stroke-linejoin:miter;stroke-width:0.8;\"/>\r\n   </g>\r\n   <g id=\"patch_30\">\r\n    <path d=\"M 263.254412 239.39235 \r\nL 361.725 239.39235 \r\n\" style=\"fill:none;stroke:#000000;stroke-linecap:square;stroke-linejoin:miter;stroke-width:0.8;\"/>\r\n   </g>\r\n   <g id=\"patch_31\">\r\n    <path d=\"M 263.254412 140.921761 \r\nL 361.725 140.921761 \r\n\" style=\"fill:none;stroke:#000000;stroke-linecap:square;stroke-linejoin:miter;stroke-width:0.8;\"/>\r\n   </g>\r\n   <g id=\"text_42\">\r\n    <!-- 2 -->\r\n    <g transform=\"translate(308.672206 134.921761)scale(0.12 -0.12)\">\r\n     <use xlink:href=\"#DejaVuSans-50\"/>\r\n    </g>\r\n   </g>\r\n  </g>\r\n </g>\r\n <defs>\r\n  <clipPath id=\"pdeb42cf57f\">\r\n   <rect height=\"98.470588\" width=\"98.470588\" x=\"26.925\" y=\"22.318125\"/>\r\n  </clipPath>\r\n  <clipPath id=\"p834f2426bc\">\r\n   <rect height=\"98.470588\" width=\"98.470588\" x=\"145.089706\" y=\"22.318125\"/>\r\n  </clipPath>\r\n  <clipPath id=\"p9a699ff58b\">\r\n   <rect height=\"98.470588\" width=\"98.470588\" x=\"263.254412\" y=\"22.318125\"/>\r\n  </clipPath>\r\n  <clipPath id=\"pb614fb3ce4\">\r\n   <rect height=\"98.470588\" width=\"98.470588\" x=\"26.925\" y=\"140.921761\"/>\r\n  </clipPath>\r\n  <clipPath id=\"pf959a3e426\">\r\n   <rect height=\"98.470588\" width=\"98.470588\" x=\"145.089706\" y=\"140.921761\"/>\r\n  </clipPath>\r\n  <clipPath id=\"p74da356bec\">\r\n   <rect height=\"98.470588\" width=\"98.470588\" x=\"263.254412\" y=\"140.921761\"/>\r\n  </clipPath>\r\n </defs>\r\n</svg>\r\n",
      "image/png": "[encoded data removed]"
     },
     "metadata": {
      "needs_background": "light"
     }
    }
   ],
   "source": [
    "# Visualisation de certains chifre \n",
    "import matplotlib.pyplot as plt\n",
    "# il nous faut redim notre x_train \n",
    "x_train=x_train.reshape(x_train.shape[0], 28, 28)\n",
    "for t in range(0,6):\n",
    "    plt.subplot((230 + (t+1)))  # ici 230 = 2 nb de ligne ,3 nb de colone ,4 0 index \n",
    "    plt.imshow(x_train[t],cmap=plt.get_cmap('Blues'))\n",
    "    plt.title(y_train[t])\n",
    "\n",
    "# ON va aussi redim  notre x_test\n",
    "x_test=x_test.reshape(x_test.shape[0],28,28,1)\n",
    "print(np.shape(x_test))\n",
    "    "
   ]
  },
  {
   "cell_type": "code",
   "execution_count": 37,
   "metadata": {},
   "outputs": [],
   "source": [
    "# on va redim le x_test et le x_train \n",
    "x_test=x_test.reshape(x_test.shape[0],28,28,1)\n",
    "x_train=x_train.reshape(x_train.shape[0], 28, 28,1)"
   ]
  },
  {
   "cell_type": "code",
   "execution_count": 38,
   "metadata": {},
   "outputs": [],
   "source": [
    "# normalisation et standardisation \n",
    "m = x_train.mean()\n",
    "s = x_train.std()\n",
    "std=(x_train-m)/s"
   ]
  },
  {
   "cell_type": "markdown",
   "metadata": {},
   "source": [
    "PREPARATION DU DATASET"
   ]
  },
  {
   "cell_type": "code",
   "execution_count": 39,
   "metadata": {},
   "outputs": [],
   "source": [
    "# Préparation du dataset\n",
    "from keras.utils import np_utils\n",
    "#from keras.utils.visualize_util import plot\n",
    "# filtre\n",
    "nb_filtre = 32\n",
    "# Pooling\n",
    "pool_taille = (2, 2)\n",
    "# Kernel\n",
    "kernel_taille = (3, 3) \n",
    "nb_classes = 10\n",
    "Y_train = np_utils.to_categorical(y_train, nb_classes)\n",
    "Y_test = np_utils.to_categorical(y_test, nb_classes)"
   ]
  },
  {
   "cell_type": "markdown",
   "metadata": {},
   "source": [
    "Mise en oeuvre CONVULTIONAL NEURONE NETWORK"
   ]
  },
  {
   "cell_type": "code",
   "execution_count": 40,
   "metadata": {},
   "outputs": [],
   "source": [
    "\n",
    "\n",
    "# Convultionnal neural network\n",
    "import keras \n",
    "from keras.models import Sequential\n",
    "from keras.layers import Dense, Dropout, Activation, Flatten\n",
    "from keras.layers import Convolution2D, MaxPooling2D\n",
    "input_shape=28 ,28 ,1\n",
    "model = Sequential()\n",
    "model.add(Convolution2D(nb_filtre, kernel_taille[0], kernel_taille[1], border_mode='valid',\n",
    "input_shape=input_shape))\n",
    "model.add(Activation('relu'))\n",
    "model.add(Convolution2D(nb_filtre, kernel_taille[0], kernel_taille[1]))\n",
    "model.add(Activation('relu'))\n",
    "model.add(MaxPooling2D(pool_size=pool_taille))\n",
    "model.add(Dropout(0.25))\n",
    "model.add(Flatten())\n",
    "model.add(Dense(128))\n",
    "model.add(Activation('relu'))\n",
    "model.add(Dropout(0.5))\n",
    "model.add(Dense(nb_classes))\n",
    "model.add(Activation('softmax'))"
   ]
  },
  {
   "cell_type": "markdown",
   "metadata": {},
   "source": [
    "COMPILATION"
   ]
  },
  {
   "cell_type": "code",
   "execution_count": 41,
   "metadata": {},
   "outputs": [],
   "source": [
    "#  compilation \n",
    "model.compile(loss='categorical_crossentropy', optimizer='adadelta', metrics=['accuracy'])"
   ]
  },
  {
   "cell_type": "markdown",
   "metadata": {},
   "source": [
    "TRAININGS"
   ]
  },
  {
   "cell_type": "code",
   "execution_count": 54,
   "metadata": {},
   "outputs": [
    {
     "output_type": "stream",
     "name": "stdout",
     "text": "Train on 60000 samples, validate on 10000 samples\nEpoch 1/1\n60000/60000 [==============================] - 62s 1ms/step - loss: 0.1519 - accuracy: 0.9581 - val_loss: 0.0519 - val_accuracy: 0.9839\n"
    },
    {
     "output_type": "execute_result",
     "data": {
      "text/plain": "<keras.callbacks.callbacks.History at 0x2398fd67400>"
     },
     "metadata": {},
     "execution_count": 54
    }
   ],
   "source": [
    "# Entrainement du model \n",
    "batch_size = 128\n",
    "nb_epoch = 1\n",
    "model.fit(x_train, Y_train, batch_size=batch_size, nb_epoch=nb_epoch, verbose=1, validation_data=(x_test, Y_test))"
   ]
  },
  {
   "cell_type": "markdown",
   "metadata": {},
   "source": [
    "EVALUATION"
   ]
  },
  {
   "cell_type": "code",
   "execution_count": 61,
   "metadata": {},
   "outputs": [
    {
     "output_type": "stream",
     "name": "stdout",
     "text": "Test Metrics:\n"
    },
    {
     "output_type": "execute_result",
     "data": {
      "text/plain": "(None, (['loss', 'accuracy'], [0.05185744024440355, 0.9839000105857849]))"
     },
     "metadata": {},
     "execution_count": 61
    }
   ],
   "source": [
    "# Evaluation\n",
    "\n",
    "from keras.utils import np_utils\n",
    "from keras.utils.vis_utils import plot_model\n",
    "score = model.evaluate(x_test, Y_test, verbose=0)\n",
    "print (\"Test Metrics:\"), (model.metrics_names, score)\n",
    "#plot_model(model, to_file='s7.png', show_shapes=True)"
   ]
  },
  {
   "cell_type": "code",
   "execution_count": null,
   "metadata": {},
   "outputs": [],
   "source": []
  }
 ]
}